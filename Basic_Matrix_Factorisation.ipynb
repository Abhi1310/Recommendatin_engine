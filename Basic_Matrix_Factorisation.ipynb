{
  "nbformat": 4,
  "nbformat_minor": 0,
  "metadata": {
    "colab": {
      "name": "Basic_Matrix Factorisation.ipynb",
      "provenance": []
    },
    "kernelspec": {
      "name": "python3",
      "display_name": "Python 3"
    }
  },
  "cells": [
    {
      "cell_type": "code",
      "metadata": {
        "id": "kbFASIlPnSmk",
        "colab_type": "code",
        "colab": {}
      },
      "source": [
        "import numpy"
      ],
      "execution_count": 0,
      "outputs": []
    },
    {
      "cell_type": "code",
      "metadata": {
        "id": "7DHhQ2ZroMtm",
        "colab_type": "code",
        "colab": {}
      },
      "source": [
        "def matrix_f(rating_matrix, user_matrix , item_matrix , no_of_latent_features , steps = 5000 , alpha = .0002 , beta = .02 ):\n",
        "  item_matrix = item_matrix.T\n",
        "  for step in range(steps):\n",
        "    for i in range(len(rating_matrix)): # to change rows\n",
        "      for j in range(len(rating_matrix[i])): # to change columns\n",
        "        if rating_matrix[i][j] > 0 : # to check for positive rating\n",
        "          eij = rating_matrix[i][j] - numpy.dot(user_matrix[i,:],item_matrix[:,j])  # difference between actual and measured rating\n",
        "          for k in range(no_of_latent_features):\n",
        "            user_matrix[i][k] = user_matrix[i][k] + alpha * (2 * eij * item_matrix[k][j] - beta * user_matrix[i][k]) # updated value for user_matrix\n",
        "            item_matrix[k][j] = item_matrix[k][j] + alpha * (2 * eij * user_matrix[i][k] - beta * item_matrix[k][j])  # updated value for item_matrix\n",
        "    \n",
        "    e = 0\n",
        "    for i in range(len(rating_matrix)):\n",
        "      for j in range(len(rating_matrix[i])):\n",
        "        if rating_matrix[i][j] > 0:\n",
        "          e = e + pow(rating_matrix[i][j] - numpy.dot(user_matrix[i,:],item_matrix[:,j]),2)  # mse\n",
        "          for k in range(no_of_latent_features):\n",
        "            e = e + (beta/2) * ( pow(user_matrix[i][k],2)  +  pow(item_matrix[k][j],2)) # mse with L2 penelty term to avoid overfitting\n",
        "      \n",
        "    if e < 0.001:\n",
        "      break\n",
        "\n",
        "  return user_matrix , item_matrix.T  \n",
        "\n",
        "\n",
        "\n"
      ],
      "execution_count": 0,
      "outputs": []
    },
    {
      "cell_type": "code",
      "metadata": {
        "id": "paZmF1be58R1",
        "colab_type": "code",
        "colab": {
          "base_uri": "https://localhost:8080/",
          "height": 106
        },
        "outputId": "fde39cc1-4c4e-4036-fcac-2ffb96b58189"
      },
      "source": [
        "R = [[5,3,0,1],\n",
        "     [4,0,0,1],\n",
        "     [1,1,0,5],\n",
        "     [1,0,0,4],\n",
        "     [0,1,5,4]\n",
        "     ]\n",
        "R =  numpy.array(R)\n",
        "n_users = len(R)\n",
        "n_items = len(R[0])\n",
        "n_latent_features  = 2 \n",
        "\n",
        "P = numpy.random.rand(n_users,n_latent_features)\n",
        "Q = numpy.random.rand(n_items , n_latent_features)\n",
        "\n",
        "nP , nQ = matrix_f(R,P,Q,n_latent_features)\n",
        "nR = numpy.dot(nP , nQ.T )\n",
        "print(nR)\n"
      ],
      "execution_count": 59,
      "outputs": [
        {
          "output_type": "stream",
          "text": [
            "[[5.06043104 2.75169657 5.35137966 0.99879496]\n",
            " [3.91947215 2.13284043 4.27144615 1.00098577]\n",
            " [1.1213949  0.6423446  3.82945316 4.96854323]\n",
            " [0.94059436 0.53748259 3.10668037 3.97827956]\n",
            " [2.74440605 1.51620167 4.84092698 4.02314613]]\n"
          ],
          "name": "stdout"
        }
      ]
    },
    {
      "cell_type": "code",
      "metadata": {
        "id": "8iouz-IcIBfS",
        "colab_type": "code",
        "colab": {}
      },
      "source": [
        ""
      ],
      "execution_count": 0,
      "outputs": []
    }
  ]
}